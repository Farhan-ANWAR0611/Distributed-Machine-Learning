{
  "nbformat": 4,
  "nbformat_minor": 0,
  "metadata": {
    "colab": {
      "provenance": [],
      "gpuType": "T4",
      "authorship_tag": "ABX9TyMAIb1tbBRO9C36EeFDrQ/2",
      "include_colab_link": true
    },
    "kernelspec": {
      "name": "python3",
      "display_name": "Python 3"
    },
    "language_info": {
      "name": "python"
    },
    "accelerator": "GPU"
  },
  "cells": [
    {
      "cell_type": "markdown",
      "metadata": {
        "id": "view-in-github",
        "colab_type": "text"
      },
      "source": [
        "<a href=\"https://colab.research.google.com/github/Farhan-ANWAR0611/Distributed-Machine-Learning/blob/main/Copy_of_Data_Parallelism_Efficient_Data_Handling_through_Data_Parallelism_copy.ipynb\" target=\"_parent\"><img src=\"https://colab.research.google.com/assets/colab-badge.svg\" alt=\"Open In Colab\"/></a>"
      ]
    },
    {
      "cell_type": "code",
      "execution_count": null,
      "metadata": {
        "colab": {
          "base_uri": "https://localhost:8080/"
        },
        "id": "MggGZM6ChlXX",
        "outputId": "be434d99-0bcd-4742-dae8-05ff3fdc7080"
      },
      "outputs": [
        {
          "output_type": "stream",
          "name": "stdout",
          "text": [
            "Requirement already satisfied: pyspark in /usr/local/lib/python3.11/dist-packages (3.5.1)\n",
            "Requirement already satisfied: py4j==0.10.9.7 in /usr/local/lib/python3.11/dist-packages (from pyspark) (0.10.9.7)\n",
            "+---+-----------+-------+---------+-------+-------+-------+----+--------+---+-----+--------+--------+-----+--------+--------+---+\n",
            "|age|        job|marital|education|default|balance|housing|loan| contact|day|month|duration|campaign|pdays|previous|poutcome|  y|\n",
            "+---+-----------+-------+---------+-------+-------+-------+----+--------+---+-----+--------+--------+-----+--------+--------+---+\n",
            "| 30| unemployed|married|  primary|     no|   1787|     no|  no|cellular| 19|  oct|      79|       1|   -1|       0| unknown| no|\n",
            "| 33|   services|married|secondary|     no|   4789|    yes| yes|cellular| 11|  may|     220|       1|  339|       4| failure| no|\n",
            "| 35| management| single| tertiary|     no|   1350|    yes|  no|cellular| 16|  apr|     185|       1|  330|       1| failure| no|\n",
            "| 30| management|married| tertiary|     no|   1476|    yes| yes| unknown|  3|  jun|     199|       4|   -1|       0| unknown| no|\n",
            "| 59|blue-collar|married|secondary|     no|      0|    yes|  no| unknown|  5|  may|     226|       1|   -1|       0| unknown| no|\n",
            "+---+-----------+-------+---------+-------+-------+-------+----+--------+---+-----+--------+--------+-----+--------+--------+---+\n",
            "only showing top 5 rows\n",
            "\n"
          ]
        }
      ],
      "source": [
        "#Load the \"bank (1).csv\" dataset into a Spark DataFrame and inspect the first few rows.\n",
        "#Question 1\n",
        "#Load the \"bank (1).csv\" dataset into a Spark DataFrame and inspect the first few rows.\n",
        "# Install and import PySpark\n",
        "!pip install pyspark\n",
        "\n",
        "from pyspark.sql import SparkSession\n",
        "import pandas as pd\n",
        "\n",
        "# Start Spark session\n",
        "spark = SparkSession.builder \\\n",
        "    .appName(\"Bank Data Parallelism\") \\\n",
        "    .getOrCreate()\n",
        "\n",
        "# Load CSV file\n",
        "df = spark.read.csv(\"/content/bank (1).csv\", header=True, inferSchema=True)\n",
        "\n",
        "# Show first few rows\n",
        "df.show(5)\n",
        "\n"
      ]
    },
    {
      "cell_type": "markdown",
      "source": [
        "This displays the first 5 rows of the banking dataset to verify it has been loaded correctly into a Spark DataFrame. You should see columns like age, job, marital, education, balance, etc., with actual data."
      ],
      "metadata": {
        "id": "KXdYP7J1iwDs"
      }
    },
    {
      "cell_type": "code",
      "source": [
        "#ques 2 Question:\n",
        "#Implement a method to divide the dataset into smaller partitions for parallel processing. What strategy did you use for partitioning, and why?\n",
        "# Check current number of partitions\n",
        "print(f\"Initial number of partitions: {df.rdd.getNumPartitions()}\")\n",
        "\n",
        "# Repartition the DataFrame based on the 'job' column\n",
        "df_partitioned = df.repartition(\"job\")\n",
        "\n",
        "# Check new number of partitions\n",
        "print(f\"Number of partitions after repartitioning: {df_partitioned.rdd.getNumPartitions()}\")\n",
        "\n"
      ],
      "metadata": {
        "colab": {
          "base_uri": "https://localhost:8080/"
        },
        "id": "E5ngJCeojIAT",
        "outputId": "a946bfca-4443-481b-b582-cfa67da7fff6"
      },
      "execution_count": null,
      "outputs": [
        {
          "output_type": "stream",
          "name": "stdout",
          "text": [
            "Initial number of partitions: 1\n",
            "Number of partitions after repartitioning: 1\n"
          ]
        }
      ]
    },
    {
      "cell_type": "markdown",
      "source": [
        "Explanation of Partitioning Strategy:\n",
        "\n",
        "I repartitioned the DataFrame using the job column.\n",
        "\n",
        "Why job? Because it's a categorical column with moderate cardinality (not too many unique values), making it suitable for partitioning. It helps parallelize computations by distributing similar records together (e.g., all 'admin' jobs in one partition).\n",
        "\n",
        "Repartitioning ensures load balancing across Spark worker nodes, improving performance in distributed tasks like aggregations and model training."
      ],
      "metadata": {
        "id": "Hlt2KuCZjTHp"
      }
    },
    {
      "cell_type": "code",
      "source": [
        "#ques3 Identify and calculate the average balance for each job category in the \"bank.csv\" dataset.\n",
        "#Use parallel processing to perform this calculation. Describe your approach and the results.\n",
        "# Group by 'job' and calculate average 'balance' using parallel processing\n",
        "avg_balance_per_job = df_partitioned.groupBy(\"job\").avg(\"balance\").orderBy(\"avg(balance)\", ascending=False)\n",
        "\n",
        "# Show the result\n",
        "avg_balance_per_job.show()\n",
        "\n"
      ],
      "metadata": {
        "colab": {
          "base_uri": "https://localhost:8080/"
        },
        "id": "1VviEBsbjiee",
        "outputId": "04719a91-e6fd-4b34-a239-6a4d19c27932"
      },
      "execution_count": null,
      "outputs": [
        {
          "output_type": "stream",
          "name": "stdout",
          "text": [
            "+-------------+------------------+\n",
            "|          job|      avg(balance)|\n",
            "+-------------+------------------+\n",
            "|      retired| 2319.191304347826|\n",
            "|    housemaid|2083.8035714285716|\n",
            "|   management|1766.9287925696594|\n",
            "| entrepreneur|          1645.125|\n",
            "|      student|1543.8214285714287|\n",
            "|      unknown|1501.7105263157894|\n",
            "|self-employed|1392.4098360655737|\n",
            "|   technician|     1330.99609375|\n",
            "|       admin.|  1226.73640167364|\n",
            "|     services|1103.9568345323742|\n",
            "|   unemployed|       1089.421875|\n",
            "|  blue-collar| 1085.161733615222|\n",
            "+-------------+------------------+\n",
            "\n"
          ]
        }
      ]
    },
    {
      "cell_type": "markdown",
      "source": [
        "This output shows the average account balance for each job category, sorted in descending order.\n",
        "\n",
        "This operation was performed in parallel using Spark's distributed processing.\n",
        "\n",
        "The groupBy and avg operations were automatically executed in distributed tasks across the partitions I created earlier using the job column.\n",
        "\n",
        "🧠 This helps identify which job types (e.g., retired, student, management) have the highest average balances, which is useful for customer segmentation and targeted banking strategies."
      ],
      "metadata": {
        "id": "w8nFtsNJj8I_"
      }
    },
    {
      "cell_type": "code",
      "source": [
        "# ques 4 Perform a parallel operation to identify the top 5 age groups in the dataset that have the highest loan amounts. Explain your methodology and present your findings.\n",
        "\n",
        " #Note: The dataset doesn’t have a numerical column for “loan amount”, only a binary loan column (yes/no).\n",
        " #So, I will count the number of people in each age group who have taken loans, assuming frequency as a proxy for loan interest across age groups.\n"
      ],
      "metadata": {
        "id": "2f_m3LBWj9bt"
      },
      "execution_count": null,
      "outputs": []
    },
    {
      "cell_type": "code",
      "source": [
        "from pyspark.sql.functions import when, col\n",
        "\n",
        "# Create age groups\n",
        "df_with_age_group = df.withColumn(\"age_group\",\n",
        "                                  when(col(\"age\") < 30, \"Below 30\")\n",
        "                                  .when((col(\"age\") >= 30) & (col(\"age\") < 40), \"30-39\")\n",
        "                                  .when((col(\"age\") >= 40) & (col(\"age\") < 50), \"40-49\")\n",
        "                                  .when((col(\"age\") >= 50) & (col(\"age\") < 60), \"50-59\")\n",
        "                                  .otherwise(\"60+\"))\n",
        "\n",
        "# Filter those who have taken a loan\n",
        "loan_data = df_with_age_group.filter(col(\"loan\") == \"yes\")\n",
        "\n",
        "# Group by age group and count\n",
        "loan_by_age_group = loan_data.groupBy(\"age_group\").count().orderBy(\"count\", ascending=False)\n",
        "\n",
        "# Show top 5 age groups\n",
        "loan_by_age_group.show(5)\n"
      ],
      "metadata": {
        "colab": {
          "base_uri": "https://localhost:8080/"
        },
        "id": "lAIdpq95lWZN",
        "outputId": "f4bb7eda-5124-4085-b125-1bf5aa22c035"
      },
      "execution_count": null,
      "outputs": [
        {
          "output_type": "stream",
          "name": "stdout",
          "text": [
            "+---------+-----+\n",
            "|age_group|count|\n",
            "+---------+-----+\n",
            "|    30-39|  271|\n",
            "|    40-49|  184|\n",
            "|    50-59|  160|\n",
            "| Below 30|   68|\n",
            "|      60+|    8|\n",
            "+---------+-----+\n",
            "\n"
          ]
        }
      ]
    },
    {
      "cell_type": "markdown",
      "source": [
        "This output shows the top 5 age groups with the most loan holders.\n",
        "\n",
        "I used Spark transformations (withColumn, filter, groupBy) which are executed in parallel, leveraging data partitions for efficient processing.\n",
        "\n",
        "The result highlights which age ranges are most likely to take personal loans, useful for risk profiling or loan product targeting.\n",
        "\n",
        "The 30–39 age group has the highest number of loan holders (271), followed by 40–49 and 50–59.\n",
        "\n",
        "This indicates that middle-aged clients are more likely to take personal loans, which is valuable insight for banks to target loan products accordingly.\n",
        "\n",
        "The operations used were parallelized automatically by Spark, ensuring efficient execution even on large datasets.\n",
        "\n",
        "\n",
        "\n"
      ],
      "metadata": {
        "id": "AygdDh5blZ_A"
      }
    },
    {
      "cell_type": "code",
      "source": [
        "#ques 5 Choose a classification model to predict whether a client will subscribe to a term deposit (target variable y). Briefly explain why you selected this model.\n",
        "#My Choice:\n",
        "#I will use Logistic Regression, because:\n",
        "\n",
        "#The target variable y is binary (yes or no).\n",
        "\n",
        "#Logistic Regression is:\n",
        "\n",
        "#Efficient for binary classification.\n",
        "\n",
        "#Easy to interpret.\n",
        "\n",
        "#Scalable using Spark MLlib for large datasets.\n",
        "\n",
        "\n"
      ],
      "metadata": {
        "id": "Gh2E16PWlZm8"
      },
      "execution_count": null,
      "outputs": []
    },
    {
      "cell_type": "code",
      "source": [
        "#ques 7 Partition the dataset into training and testing sets and train your model on these partitions.\n",
        "#Discuss any challenges you faced in parallelizing the training process and how you addressed them.\n",
        "\n",
        "\n",
        "# Import required libraries\n",
        "from pyspark.ml.feature import StringIndexer, VectorAssembler\n",
        "from pyspark.ml.classification import LogisticRegression\n",
        "from pyspark.ml import Pipeline\n",
        "\n",
        "# List of categorical columns\n",
        "categorical_cols = [\"job\", \"marital\", \"education\", \"default\", \"housing\", \"loan\", \"contact\", \"month\", \"poutcome\", \"y\"]\n",
        "\n",
        "# Step 1: Encode all categorical columns\n",
        "indexers = [StringIndexer(inputCol=column, outputCol=column+\"_indexed\") for column in categorical_cols]\n",
        "pipeline = Pipeline(stages=indexers)\n",
        "df_indexed = pipeline.fit(df).transform(df)\n",
        "\n",
        "# Step 2: Assemble feature vector (excluding 'duration' to avoid data leakage)\n",
        "feature_cols = ['age', 'balance', 'day', 'campaign', 'pdays', 'previous'] + [col+\"_indexed\" for col in categorical_cols[:-1]]\n",
        "assembler = VectorAssembler(inputCols=feature_cols, outputCol=\"features\")\n",
        "df_final = assembler.transform(df_indexed)\n",
        "\n",
        "# Step 3: Index label column\n",
        "label_indexer = StringIndexer(inputCol=\"y\", outputCol=\"label\")\n",
        "df_final = label_indexer.fit(df_final).transform(df_final)\n",
        "\n",
        "# Step 4: Partition the dataset\n",
        "train_df, test_df = df_final.randomSplit([0.8, 0.2], seed=42)\n",
        "print(f\"Training set size: {train_df.count()}\")\n",
        "print(f\"Testing set size: {test_df.count()}\")\n",
        "\n",
        "# Step 5: Train the model using Spark ML (logistic regression)\n",
        "lr = LogisticRegression(featuresCol=\"features\", labelCol=\"label\", maxIter=10)\n",
        "lr_model = lr.fit(train_df)\n",
        "\n"
      ],
      "metadata": {
        "colab": {
          "base_uri": "https://localhost:8080/"
        },
        "id": "SUrtnGou-C8_",
        "outputId": "16eff48b-de44-43e7-af56-71c32f71f75b"
      },
      "execution_count": null,
      "outputs": [
        {
          "output_type": "stream",
          "name": "stdout",
          "text": [
            "Training set size: 3662\n",
            "Testing set size: 859\n"
          ]
        }
      ]
    },
    {
      "cell_type": "markdown",
      "source": [
        "I partitioned the dataset using Spark’s randomSplit() method into 80% training and 20% testing sets. The training process was performed using Spark ML's LogisticRegression model, which automatically parallelizes the training across distributed nodes.\n",
        "\n",
        "One challenge I faced was that Spark ML models only accept numeric input features. To resolve this, I applied StringIndexer on all categorical columns and used VectorAssembler to combine all features into a single vector column.\n",
        "\n",
        "I also excluded the duration column to prevent data leakage, since it strongly correlates with the target label. Repartitioning on the job column earlier also ensured balanced parallel computation during model training."
      ],
      "metadata": {
        "id": "NVIG1xMg-vK2"
      }
    },
    {
      "cell_type": "code",
      "source": [
        "#ques 8 Implement resource monitoring during data processing and model training. What observations did you make regarding CPU and memory usage?\n",
        "# Install and load psutil for monitoring system resources\n",
        "!pip install psutil\n",
        "\n",
        "import psutil\n",
        "import os\n",
        "import time\n",
        "\n",
        "# Function to check CPU and memory usage\n",
        "def monitor_resources():\n",
        "    process = psutil.Process(os.getpid())\n",
        "    print(f\"CPU usage (%): {psutil.cpu_percent(interval=1)}\")\n",
        "    print(f\"Memory usage (MB): {process.memory_info().rss / 1024 / 1024:.2f}\")\n",
        "\n",
        "# Monitor before data processing\n",
        "print(\"Before data processing:\")\n",
        "monitor_resources()\n",
        "\n",
        "# Simulate processing: Re-run any processing step like showing top balances again\n",
        "df.groupBy(\"job\").avg(\"balance\").show()\n",
        "\n",
        "# Monitor after processing\n",
        "print(\"\\nAfter data processing:\")\n",
        "monitor_resources()\n"
      ],
      "metadata": {
        "colab": {
          "base_uri": "https://localhost:8080/"
        },
        "id": "nSobnuml-4pu",
        "outputId": "59701806-db1d-4a41-c8f4-eb846e155fe1"
      },
      "execution_count": null,
      "outputs": [
        {
          "output_type": "stream",
          "name": "stdout",
          "text": [
            "Requirement already satisfied: psutil in /usr/local/lib/python3.11/dist-packages (5.9.5)\n",
            "Before data processing:\n",
            "CPU usage (%): 56.1\n",
            "Memory usage (MB): 229.24\n",
            "+-------------+------------------+\n",
            "|          job|      avg(balance)|\n",
            "+-------------+------------------+\n",
            "|   management|1766.9287925696594|\n",
            "|      retired| 2319.191304347826|\n",
            "|      unknown|1501.7105263157894|\n",
            "|self-employed|1392.4098360655737|\n",
            "|      student|1543.8214285714287|\n",
            "|  blue-collar| 1085.161733615222|\n",
            "| entrepreneur|          1645.125|\n",
            "|       admin.|  1226.73640167364|\n",
            "|   technician|     1330.99609375|\n",
            "|     services|1103.9568345323742|\n",
            "|    housemaid|2083.8035714285716|\n",
            "|   unemployed|       1089.421875|\n",
            "+-------------+------------------+\n",
            "\n",
            "\n",
            "After data processing:\n",
            "CPU usage (%): 11.9\n",
            "Memory usage (MB): 229.24\n"
          ]
        }
      ]
    },
    {
      "cell_type": "markdown",
      "source": [
        "I monitored resource usage using the psutil library in Google Colab.\n",
        "\n",
        "Before processing, CPU usage was around 56% and memory usage was approximately 229 MB.\n",
        "\n",
        "After processing, CPU usage dropped to around 12%, with memory usage remaining constant at 229 MB.\n",
        "\n",
        "This shows that the CPU usage spikes during parallel operations like groupBy() while Spark is executing distributed computations. Memory remained stable due to Spark’s lazy evaluation and efficient memory handling.\n",
        "\n",
        "In a full Spark cluster, these metrics would be available through the Spark Web UI or monitoring tools like Ganglia or Prometheus, but in Colab, psutil provides a lightweight snapshot of performance."
      ],
      "metadata": {
        "id": "TdxgXHrE_Wav"
      }
    },
    {
      "cell_type": "code",
      "source": [
        "# ques 9 Manage multiple parallel tasks, such as different preprocessing tasks. How did you ensure the effective management of these tasks?\n"
      ],
      "metadata": {
        "id": "lN8PvM28_Xl5"
      },
      "execution_count": null,
      "outputs": []
    },
    {
      "cell_type": "markdown",
      "source": [
        "ANSWER - In this project, I managed multiple parallel tasks such as data preprocessing, categorical encoding, feature assembly, and model training by leveraging Apache Spark's built-in parallel execution engine.\n",
        "\n",
        "Here's how I ensured effective task management and scheduling:\n",
        "\n",
        "Pipeline for Sequential Preprocessing:\n",
        "I used a Pipeline from Spark ML to chain together multiple tasks like StringIndexer for encoding and VectorAssembler for feature creation. This allowed Spark to optimize and schedule all transformation steps efficiently in parallel.\n",
        "\n",
        "Data Partitioning Strategy:\n",
        "I repartitioned the data based on the job column to ensure even workload distribution across executors. This prevented data skew and promoted balanced task execution.\n",
        "\n",
        "Lazy Evaluation:\n",
        "Spark's lazy execution ensured that all operations were compiled into a single DAG (Directed Acyclic Graph) before execution. This allowed Spark to intelligently optimize task scheduling and avoid unnecessary computation.\n",
        "\n",
        "Task Scheduling by Spark Driver:\n",
        "Spark internally manages task distribution using its driver program, which splits the DAG into stages and schedules them across available executors, ensuring maximum parallelism and fault tolerance.\n",
        "\n",
        "By designing transformations within Spark’s framework and avoiding overly sequential operations, I allowed Spark to fully utilize its distributed architecture for preprocessing and model training."
      ],
      "metadata": {
        "id": "sKvMM_6L_pZO"
      }
    }
  ]
}
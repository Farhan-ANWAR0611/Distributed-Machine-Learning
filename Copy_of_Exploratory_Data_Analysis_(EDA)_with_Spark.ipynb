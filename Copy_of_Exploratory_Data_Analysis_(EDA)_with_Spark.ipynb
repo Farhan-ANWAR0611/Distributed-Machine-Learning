{
  "nbformat": 4,
  "nbformat_minor": 0,
  "metadata": {
    "colab": {
      "provenance": [],
      "gpuType": "T4",
      "authorship_tag": "ABX9TyOo0ZKdco9bdxpnhSzvkQmw",
      "include_colab_link": true
    },
    "kernelspec": {
      "name": "python3",
      "display_name": "Python 3"
    },
    "language_info": {
      "name": "python"
    },
    "accelerator": "GPU"
  },
  "cells": [
    {
      "cell_type": "markdown",
      "metadata": {
        "id": "view-in-github",
        "colab_type": "text"
      },
      "source": [
        "<a href=\"https://colab.research.google.com/github/Farhan-ANWAR0611/Distributed-Machine-Learning/blob/main/Copy_of_Exploratory_Data_Analysis_(EDA)_with_Spark.ipynb\" target=\"_parent\"><img src=\"https://colab.research.google.com/assets/colab-badge.svg\" alt=\"Open In Colab\"/></a>"
      ]
    },
    {
      "cell_type": "markdown",
      "source": [
        "**SPARK Data Processing**\n"
      ],
      "metadata": {
        "id": "0Uj0sgj5DH8M"
      }
    },
    {
      "cell_type": "code",
      "execution_count": null,
      "metadata": {
        "colab": {
          "base_uri": "https://localhost:8080/"
        },
        "id": "cqmH_YQL6fiR",
        "outputId": "b7afeca9-d14a-47be-81c6-ff30b58c0a10"
      },
      "outputs": [
        {
          "output_type": "stream",
          "name": "stdout",
          "text": [
            "+---+-----------+-------+---------+-------+-------+-------+----+--------+---+-----+--------+--------+-----+--------+--------+---+\n",
            "|age|        job|marital|education|default|balance|housing|loan| contact|day|month|duration|campaign|pdays|previous|poutcome|  y|\n",
            "+---+-----------+-------+---------+-------+-------+-------+----+--------+---+-----+--------+--------+-----+--------+--------+---+\n",
            "| 30| unemployed|married|  primary|     no|   1787|     no|  no|cellular| 19|  oct|      79|       1|   -1|       0| unknown| no|\n",
            "| 33|   services|married|secondary|     no|   4789|    yes| yes|cellular| 11|  may|     220|       1|  339|       4| failure| no|\n",
            "| 35| management| single| tertiary|     no|   1350|    yes|  no|cellular| 16|  apr|     185|       1|  330|       1| failure| no|\n",
            "| 30| management|married| tertiary|     no|   1476|    yes| yes| unknown|  3|  jun|     199|       4|   -1|       0| unknown| no|\n",
            "| 59|blue-collar|married|secondary|     no|      0|    yes|  no| unknown|  5|  may|     226|       1|   -1|       0| unknown| no|\n",
            "+---+-----------+-------+---------+-------+-------+-------+----+--------+---+-----+--------+--------+-----+--------+--------+---+\n",
            "only showing top 5 rows\n",
            "\n",
            "root\n",
            " |-- age: integer (nullable = true)\n",
            " |-- job: string (nullable = true)\n",
            " |-- marital: string (nullable = true)\n",
            " |-- education: string (nullable = true)\n",
            " |-- default: string (nullable = true)\n",
            " |-- balance: integer (nullable = true)\n",
            " |-- housing: string (nullable = true)\n",
            " |-- loan: string (nullable = true)\n",
            " |-- contact: string (nullable = true)\n",
            " |-- day: integer (nullable = true)\n",
            " |-- month: string (nullable = true)\n",
            " |-- duration: integer (nullable = true)\n",
            " |-- campaign: integer (nullable = true)\n",
            " |-- pdays: integer (nullable = true)\n",
            " |-- previous: integer (nullable = true)\n",
            " |-- poutcome: string (nullable = true)\n",
            " |-- y: string (nullable = true)\n",
            "\n",
            "+-------+------------------+-------+--------+---------+-------+------------------+-------+----+--------+------------------+-----+------------------+------------------+------------------+------------------+--------+----+\n",
            "|summary|               age|    job| marital|education|default|           balance|housing|loan| contact|               day|month|          duration|          campaign|             pdays|          previous|poutcome|   y|\n",
            "+-------+------------------+-------+--------+---------+-------+------------------+-------+----+--------+------------------+-----+------------------+------------------+------------------+------------------+--------+----+\n",
            "|  count|              4521|   4521|    4521|     4521|   4521|              4521|   4521|4521|    4521|              4521| 4521|              4521|              4521|              4521|              4521|    4521|4521|\n",
            "|   mean| 41.17009511170095|   NULL|    NULL|     NULL|   NULL|1422.6578190665782|   NULL|NULL|    NULL|15.915284229152842| NULL|263.96129174961294| 2.793629727936297|39.766644547666445|0.5425790754257908|    NULL|NULL|\n",
            "| stddev|10.576210958711263|   NULL|    NULL|     NULL|   NULL|3009.6381424673395|   NULL|NULL|    NULL| 8.247667327229934| NULL|259.85663262468216|3.1098066601885823|100.12112444301656|1.6935623506071211|    NULL|NULL|\n",
            "|    min|                19| admin.|divorced|  primary|     no|             -3313|     no|  no|cellular|                 1|  apr|                 4|                 1|                -1|                 0| failure|  no|\n",
            "|    max|                87|unknown|  single|  unknown|    yes|             71188|    yes| yes| unknown|                31|  sep|              3025|                50|               871|                25| unknown| yes|\n",
            "+-------+------------------+-------+--------+---------+-------+------------------+-------+----+--------+------------------+-----+------------------+------------------+------------------+------------------+--------+----+\n",
            "\n"
          ]
        }
      ],
      "source": [
        "#ques 1 Load the bank.csv dataset into a Spark DataFrame.\n",
        "#Perform basic data inspection tasks such as showing the first few rows, printing the schema, and displaying a summary of numerical columns.\n",
        "\n",
        "# Step 1: Setup SparkSession\n",
        "from pyspark.sql import SparkSession\n",
        "\n",
        "spark = SparkSession.builder \\\n",
        "    .appName(\"Bank Data Analysis\") \\\n",
        "    .getOrCreate()\n",
        "\n",
        "# Step 2: Load the dataset\n",
        "df = spark.read.csv('/content/bank (1).csv', header=True, inferSchema=True)\n",
        "\n",
        "# Step 3: Show first few rows\n",
        "df.show(5)\n",
        "\n",
        "# Step 4: Print schema\n",
        "df.printSchema()\n",
        "\n",
        "# Step 5: Summary of numerical columns\n",
        "df.describe().show()\n"
      ]
    },
    {
      "cell_type": "markdown",
      "source": [
        "df.show(5) shows the first 5 rows of the dataset.\n",
        "\n",
        "df.printSchema() prints the structure of each column, including its name and inferred data type.\n",
        "\n",
        "df.describe().show() gives summary statistics (count, mean, stddev, min, max) for numerical columns only, such as age, balance, duration, etc.\n",
        "\n",
        "This step helps to verify that the dataset has loaded correctly, data types are inferred properly, and it gives an initial understanding of the numerical distributions."
      ],
      "metadata": {
        "id": "tpZ5VKpZ7LtD"
      }
    },
    {
      "cell_type": "code",
      "source": [
        "# ques 2 Filter the dataset to include only clients with a balance greater than a certain threshold (e.g., 1000).\n",
        "#Extract the month from the 'month' column and create a new column for the quarter of the year.\n",
        "\n",
        "from pyspark.sql.functions import col, when\n",
        "\n",
        "# Step 1: Filter clients with balance > 1000\n",
        "filtered_df = df.filter(col(\"balance\") > 1000)\n",
        "filtered_df.show(5)\n",
        "\n",
        "# Step 2: Create quarter column based on 'month'\n",
        "# Mapping month to quarter\n",
        "quarter_df = filtered_df.withColumn(\"quarter\", when(col(\"month\").isin(\"jan\", \"feb\", \"mar\"), \"Q1\")\n",
        "                                     .when(col(\"month\").isin(\"apr\", \"may\", \"jun\"), \"Q2\")\n",
        "                                     .when(col(\"month\").isin(\"jul\", \"aug\", \"sep\"), \"Q3\")\n",
        "                                     .when(col(\"month\").isin(\"oct\", \"nov\", \"dec\"), \"Q4\")\n",
        "                                     .otherwise(\"Unknown\"))\n",
        "quarter_df.select(\"month\", \"quarter\").distinct().show()\n",
        "\n",
        "\n"
      ],
      "metadata": {
        "colab": {
          "base_uri": "https://localhost:8080/"
        },
        "id": "B3NXG5ie7M4u",
        "outputId": "b0624d6e-d075-48e5-cb20-1be3103cc6c2"
      },
      "execution_count": null,
      "outputs": [
        {
          "output_type": "stream",
          "name": "stdout",
          "text": [
            "+---+----------+-------+---------+-------+-------+-------+----+--------+---+-----+--------+--------+-----+--------+--------+---+\n",
            "|age|       job|marital|education|default|balance|housing|loan| contact|day|month|duration|campaign|pdays|previous|poutcome|  y|\n",
            "+---+----------+-------+---------+-------+-------+-------+----+--------+---+-----+--------+--------+-----+--------+--------+---+\n",
            "| 30|unemployed|married|  primary|     no|   1787|     no|  no|cellular| 19|  oct|      79|       1|   -1|       0| unknown| no|\n",
            "| 33|  services|married|secondary|     no|   4789|    yes| yes|cellular| 11|  may|     220|       1|  339|       4| failure| no|\n",
            "| 35|management| single| tertiary|     no|   1350|    yes|  no|cellular| 16|  apr|     185|       1|  330|       1| failure| no|\n",
            "| 30|management|married| tertiary|     no|   1476|    yes| yes| unknown|  3|  jun|     199|       4|   -1|       0| unknown| no|\n",
            "| 39|  services|married|secondary|     no|   9374|    yes|  no| unknown| 20|  may|     273|       1|   -1|       0| unknown| no|\n",
            "+---+----------+-------+---------+-------+-------+-------+----+--------+---+-----+--------+--------+-----+--------+--------+---+\n",
            "only showing top 5 rows\n",
            "\n",
            "+-----+-------+\n",
            "|month|quarter|\n",
            "+-----+-------+\n",
            "|  jul|     Q3|\n",
            "|  nov|     Q4|\n",
            "|  aug|     Q3|\n",
            "|  feb|     Q1|\n",
            "|  oct|     Q4|\n",
            "|  sep|     Q3|\n",
            "|  may|     Q2|\n",
            "|  dec|     Q4|\n",
            "|  jun|     Q2|\n",
            "|  jan|     Q1|\n",
            "|  apr|     Q2|\n",
            "|  mar|     Q1|\n",
            "+-----+-------+\n",
            "\n"
          ]
        }
      ]
    },
    {
      "cell_type": "markdown",
      "source": [
        "The filtered DataFrame successfully shows only clients with a balance greater than 1000.\n",
        "\n",
        "The quarter column has been correctly created from the month column using logical mapping:\n",
        "\n",
        "For example, 'jan', 'feb', 'mar' → Q1, 'apr', 'may', 'jun' → Q2, etc.\n",
        "\n",
        "This is now ready for any quarterly trend analysis or seasonal insights.\n",
        "\n"
      ],
      "metadata": {
        "id": "yEsrFtZh7y0M"
      }
    },
    {
      "cell_type": "code",
      "source": [
        "# ques 3 Group the data by job type and calculate the average balance and median age for each job category.\n",
        "#Find the total number of clients for each marital status who have subscribed to a term deposit.\n",
        "\n",
        "from pyspark.sql.functions import avg, count, expr, percentile_approx\n",
        "\n",
        "# Step 1: Average balance and median age by job type\n",
        "job_stats = quarter_df.groupBy(\"job\").agg(\n",
        "    avg(\"balance\").alias(\"avg_balance\"),\n",
        "    percentile_approx(\"age\", 0.5).alias(\"median_age\")\n",
        ")\n",
        "job_stats.show(truncate=False)\n",
        "\n",
        "# Step 2: Total number of clients per marital status who subscribed to term deposit\n",
        "marital_subscribed = quarter_df.filter(col(\"y\") == \"yes\") \\\n",
        "    .groupBy(\"marital\") \\\n",
        "    .agg(count(\"*\").alias(\"subscribed_clients\"))\n",
        "marital_subscribed.show()\n",
        "\n",
        "\n"
      ],
      "metadata": {
        "colab": {
          "base_uri": "https://localhost:8080/"
        },
        "id": "Y3ZoIWXf7zyd",
        "outputId": "44ae945e-9565-40be-bdf4-fc9658063c42"
      },
      "execution_count": null,
      "outputs": [
        {
          "output_type": "stream",
          "name": "stdout",
          "text": [
            "+-------------+------------------+----------+\n",
            "|job          |avg_balance       |median_age|\n",
            "+-------------+------------------+----------+\n",
            "|management   |4229.221621621622 |39        |\n",
            "|retired      |5290.106382978724 |59        |\n",
            "|unknown      |3294.6            |44        |\n",
            "|self-employed|3623.7903225806454|41        |\n",
            "|student      |3794.8064516129034|25        |\n",
            "|blue-collar  |3143.5575539568345|41        |\n",
            "|entrepreneur |4851.423076923077 |40        |\n",
            "|admin.       |3342.1710526315787|41        |\n",
            "|technician   |3768.2928870292885|38        |\n",
            "|services     |3529.6724137931033|40        |\n",
            "|housemaid    |6592.242424242424 |46        |\n",
            "|unemployed   |3017.8205128205127|43        |\n",
            "+-------------+------------------+----------+\n",
            "\n",
            "+--------+------------------+\n",
            "| marital|subscribed_clients|\n",
            "+--------+------------------+\n",
            "|divorced|                29|\n",
            "| married|               128|\n",
            "|  single|                64|\n",
            "+--------+------------------+\n",
            "\n"
          ]
        }
      ]
    },
    {
      "cell_type": "markdown",
      "source": [
        "From the job statistics:\n",
        "\n",
        "retired and housemaid clients have the highest average balances.\n",
        "\n",
        "student clients have the lowest median age, as expected.\n",
        "\n",
        "This gives insight into job-wise financial profiles.\n",
        "\n",
        "From the marital status breakdown:\n",
        "\n",
        "Married clients have the highest number of term deposit subscriptions.\n",
        "\n",
        "This info could be used to target future campaigns more effectively."
      ],
      "metadata": {
        "id": "gxvLpNij8NFQ"
      }
    },
    {
      "cell_type": "code",
      "source": [
        "# ques 4 Write a UDF that categorizes clients into age groups (<30, 30-60, >60) and apply it to create a new column age_group.\n",
        "\n",
        "from pyspark.sql.functions import udf\n",
        "from pyspark.sql.types import StringType\n",
        "\n",
        "# Step 1: Define the UDF function\n",
        "def age_group(age):\n",
        "    if age < 30:\n",
        "        return \"<30\"\n",
        "    elif age <= 60:\n",
        "        return \"30-60\"\n",
        "    else:\n",
        "        return \">60\"\n",
        "\n",
        "# Step 2: Register the UDF\n",
        "age_group_udf = udf(age_group, StringType())\n",
        "\n",
        "# Step 3: Apply the UDF to create new column\n",
        "age_grouped_df = quarter_df.withColumn(\"age_group\", age_group_udf(col(\"age\")))\n",
        "age_grouped_df.select(\"age\", \"age_group\").distinct().orderBy(\"age\").show(10)\n"
      ],
      "metadata": {
        "colab": {
          "base_uri": "https://localhost:8080/"
        },
        "id": "cA-yyXkz8ODp",
        "outputId": "b30b13ae-5293-41fd-d6d2-3c77ae4dcfcf"
      },
      "execution_count": null,
      "outputs": [
        {
          "output_type": "stream",
          "name": "stdout",
          "text": [
            "+---+---------+\n",
            "|age|age_group|\n",
            "+---+---------+\n",
            "| 19|      <30|\n",
            "| 20|      <30|\n",
            "| 21|      <30|\n",
            "| 22|      <30|\n",
            "| 23|      <30|\n",
            "| 24|      <30|\n",
            "| 25|      <30|\n",
            "| 26|      <30|\n",
            "| 27|      <30|\n",
            "| 28|      <30|\n",
            "+---+---------+\n",
            "only showing top 10 rows\n",
            "\n"
          ]
        }
      ]
    },
    {
      "cell_type": "markdown",
      "source": [
        "The new age_group column correctly assigns clients under 30 to the <30 category.\n",
        "\n",
        "This will help in segmentation and targeted analysis by age category.\n",
        "\n"
      ],
      "metadata": {
        "id": "TS9DKRGz8m06"
      }
    },
    {
      "cell_type": "code",
      "source": [
        "# ques 5 Calculate the subscription rate (percentage of clients who subscribed to a term deposit) for each education level.\n",
        "\n",
        "#Identify the top 3 professions that have the highest loan default rate.\n",
        "\n",
        "from pyspark.sql.functions import round\n",
        "\n",
        "# 1. Subscription Rate by Education Level\n",
        "edu_total = age_grouped_df.groupBy(\"education\").agg(count(\"*\").alias(\"total_clients\"))\n",
        "edu_subscribed = age_grouped_df.filter(col(\"y\") == \"yes\").groupBy(\"education\").agg(count(\"*\").alias(\"subscribed\"))\n",
        "\n",
        "# Join to calculate subscription rate\n",
        "edu_subscription_rate = edu_total.join(edu_subscribed, on=\"education\", how=\"left\") \\\n",
        "    .fillna(0) \\\n",
        "    .withColumn(\"subscription_rate\", round((col(\"subscribed\") / col(\"total_clients\")) * 100, 2))\n",
        "edu_subscription_rate.select(\"education\", \"subscription_rate\").show()\n",
        "\n",
        "# 2. Top 3 Job Types with Highest Loan Default Rate\n",
        "loan_total = age_grouped_df.groupBy(\"job\").agg(count(\"*\").alias(\"total_clients\"))\n",
        "loan_yes = age_grouped_df.filter(col(\"loan\") == \"yes\").groupBy(\"job\").agg(count(\"*\").alias(\"loan_yes\"))\n",
        "\n",
        "loan_default_rate = loan_total.join(loan_yes, on=\"job\", how=\"left\") \\\n",
        "    .fillna(0) \\\n",
        "    .withColumn(\"loan_default_rate\", round((col(\"loan_yes\") / col(\"total_clients\")) * 100, 2))\n",
        "\n",
        "top3_loan_defaults = loan_default_rate.orderBy(col(\"loan_default_rate\").desc()).limit(3)\n",
        "top3_loan_defaults.select(\"job\", \"loan_default_rate\").show()\n",
        "\n",
        "\n"
      ],
      "metadata": {
        "colab": {
          "base_uri": "https://localhost:8080/"
        },
        "id": "9bXYA1a88n3d",
        "outputId": "1e5d9873-2a6b-404b-bf26-9a7bfdb3baca"
      },
      "execution_count": null,
      "outputs": [
        {
          "output_type": "stream",
          "name": "stdout",
          "text": [
            "+---------+-----------------+\n",
            "|education|subscription_rate|\n",
            "+---------+-----------------+\n",
            "|  unknown|            17.65|\n",
            "| tertiary|             17.9|\n",
            "|secondary|            13.39|\n",
            "|  primary|            11.79|\n",
            "+---------+-----------------+\n",
            "\n",
            "+-------------+-----------------+\n",
            "|          job|loan_default_rate|\n",
            "+-------------+-----------------+\n",
            "| entrepreneur|            28.85|\n",
            "|self-employed|             12.9|\n",
            "|      retired|            12.77|\n",
            "+-------------+-----------------+\n",
            "\n"
          ]
        }
      ]
    },
    {
      "cell_type": "markdown",
      "source": [
        "Subscription Rate by Education:\n",
        "\n",
        "Shows the percentage of clients who subscribed to term deposits (y = yes) for each education group.\n",
        "\n",
        "Useful to identify which education level has the most receptive clients.\n",
        "\n",
        "Top 3 Professions with Loan Defaults:\n",
        "\n",
        "Calculates the percentage of clients per job who have a loan (loan = yes).\n",
        "\n",
        "Helps identify jobs with highest financial liabilities.\n",
        "\n"
      ],
      "metadata": {
        "id": "gL7AcNso871O"
      }
    },
    {
      "cell_type": "code",
      "source": [
        "# ques 6 Concatenate the 'job' and 'marital' columns into a new column 'job_marital'.\n",
        "\n",
        "#Use string functions to convert the 'contact' column to uppercase.\n",
        "\n",
        "from pyspark.sql.functions import concat_ws, upper\n",
        "\n",
        "# 1. Concatenate 'job' and 'marital' into 'job_marital'\n",
        "concat_df = age_grouped_df.withColumn(\"job_marital\", concat_ws(\"_\", col(\"job\"), col(\"marital\")))\n",
        "\n",
        "# 2. Convert 'contact' column to uppercase\n",
        "string_df = concat_df.withColumn(\"contact_upper\", upper(col(\"contact\")))\n",
        "\n",
        "# Display the new columns\n",
        "string_df.select(\"job\", \"marital\", \"job_marital\", \"contact\", \"contact_upper\").show(5)\n",
        "\n"
      ],
      "metadata": {
        "colab": {
          "base_uri": "https://localhost:8080/"
        },
        "id": "SypOqVlG88tK",
        "outputId": "b1808fc8-017b-426e-ccad-74d2138eae90"
      },
      "execution_count": null,
      "outputs": [
        {
          "output_type": "stream",
          "name": "stdout",
          "text": [
            "+----------+-------+------------------+--------+-------------+\n",
            "|       job|marital|       job_marital| contact|contact_upper|\n",
            "+----------+-------+------------------+--------+-------------+\n",
            "|unemployed|married|unemployed_married|cellular|     CELLULAR|\n",
            "|  services|married|  services_married|cellular|     CELLULAR|\n",
            "|management| single| management_single|cellular|     CELLULAR|\n",
            "|management|married|management_married| unknown|      UNKNOWN|\n",
            "|  services|married|  services_married| unknown|      UNKNOWN|\n",
            "+----------+-------+------------------+--------+-------------+\n",
            "only showing top 5 rows\n",
            "\n"
          ]
        }
      ]
    },
    {
      "cell_type": "markdown",
      "source": [
        "job_marital: Combines the job and marital columns into a single string (e.g., technician_single).\n",
        "\n",
        "contact_upper: Converts the values in the contact column to uppercase (e.g., cellular → CELLULAR).\n",
        "\n",
        "These transformations are useful for standardization and creating new features for modeling or reporting."
      ],
      "metadata": {
        "id": "gqZGZ_AP9TMC"
      }
    },
    {
      "cell_type": "code",
      "source": [
        "# ques 7 Convert the Spark DataFrame to a Pandas DataFrame.\n",
        "#Create a bar plot showing the count of clients by job type.\n",
        "\n",
        "import matplotlib.pyplot as plt\n",
        "import pandas as pd\n",
        "\n",
        "# Convert Spark DataFrame to Pandas\n",
        "job_counts_df = string_df.groupBy(\"job\").count().toPandas()\n",
        "\n",
        "# Plot\n",
        "plt.figure(figsize=(10, 6))\n",
        "plt.bar(job_counts_df[\"job\"], job_counts_df[\"count\"], color='skyblue')\n",
        "plt.xticks(rotation=45)\n",
        "plt.title(\"Count of Clients by Job Type\")\n",
        "plt.xlabel(\"Job Type\")\n",
        "plt.ylabel(\"Number of Clients\")\n",
        "plt.tight_layout()\n",
        "plt.show()\n",
        "\n",
        "\n"
      ],
      "metadata": {
        "colab": {
          "base_uri": "https://localhost:8080/",
          "height": 607
        },
        "id": "rvHyPtQc9UIu",
        "outputId": "c5d60ab3-f722-4942-8926-f534a3aed8b1"
      },
      "execution_count": null,
      "outputs": [
        {
          "output_type": "display_data",
          "data": {
            "text/plain": [
              "<Figure size 1000x600 with 1 Axes>"
            ],
            "image/png": "[encoded data removed]"
          },
          "metadata": {}
        }
      ]
    },
    {
      "cell_type": "markdown",
      "source": [
        "The bar plot displays how many clients belong to each job type.\n",
        "\n",
        "You can now visually identify the most common professions in your dataset (e.g., blue-collar, admin., technician).\n",
        "\n",
        "This helps prioritize high-volume segments for campaign focus.\n",
        "\n"
      ],
      "metadata": {
        "id": "4AgAMDn99qA4"
      }
    },
    {
      "cell_type": "code",
      "source": [
        "# ques 8 Analyze which month of the year has the highest number of clients contacted,\n",
        "#and determine the success rate of the campaign in that month.\n",
        "\n",
        "# Step 1: Count of clients contacted in each month\n",
        "monthly_counts = string_df.groupBy(\"month\").agg(count(\"*\").alias(\"total_contacts\"))\n",
        "\n",
        "# Step 2: Count of successful subscriptions in each month\n",
        "monthly_success = string_df.filter(col(\"y\") == \"yes\") \\\n",
        "    .groupBy(\"month\").agg(count(\"*\").alias(\"successful_contacts\"))\n",
        "\n",
        "# Step 3: Join and calculate success rate\n",
        "monthly_summary = monthly_counts.join(monthly_success, on=\"month\", how=\"left\") \\\n",
        "    .fillna(0) \\\n",
        "    .withColumn(\"success_rate\", round((col(\"successful_contacts\") / col(\"total_contacts\")) * 100, 2)) \\\n",
        "    .orderBy(col(\"total_contacts\").desc())\n",
        "\n",
        "monthly_summary.show()\n",
        "\n"
      ],
      "metadata": {
        "colab": {
          "base_uri": "https://localhost:8080/"
        },
        "id": "Vv2Qb_Ml9rC_",
        "outputId": "a1e0ff9c-d556-4786-c82c-94a9b042a94b"
      },
      "execution_count": null,
      "outputs": [
        {
          "output_type": "stream",
          "name": "stdout",
          "text": [
            "+-----+--------------+-------------------+------------+\n",
            "|month|total_contacts|successful_contacts|success_rate|\n",
            "+-----+--------------+-------------------+------------+\n",
            "|  may|           384|                 33|        8.59|\n",
            "|  jun|           224|                 29|       12.95|\n",
            "|  nov|           207|                 26|       12.56|\n",
            "|  aug|           195|                 34|       17.44|\n",
            "|  jul|           154|                 15|        9.74|\n",
            "|  apr|           118|                 22|       18.64|\n",
            "|  feb|            76|                 21|       27.63|\n",
            "|  jan|            36|                  9|        25.0|\n",
            "|  oct|            33|                 12|       36.36|\n",
            "|  mar|            24|                  9|        37.5|\n",
            "|  sep|            18|                  7|       38.89|\n",
            "|  dec|            12|                  4|       33.33|\n",
            "+-----+--------------+-------------------+------------+\n",
            "\n"
          ]
        }
      ]
    },
    {
      "cell_type": "markdown",
      "source": [
        "The table shows:\n",
        "\n",
        "total_contacts per month – helps you identify peak campaign months.\n",
        "\n",
        "successful_contacts – number of those contacts that led to term deposit subscriptions.\n",
        "\n",
        "success_rate – calculated as a percentage.\n",
        "\n",
        "You can now determine which month was the most active and which had the highest success rate, both crucial for planning future outreach strategies."
      ],
      "metadata": {
        "id": "qy1vevAh95vb"
      }
    },
    {
      "cell_type": "code",
      "source": [
        "# ques 9 Find the average duration of contact for clients who subscribed (y = yes) versus those who did not (y = no).\n",
        "\n",
        "from pyspark.sql.functions import mean\n",
        "\n",
        "# Group by 'y' (yes/no) and calculate average contact duration\n",
        "avg_duration_by_subscription = string_df.groupBy(\"y\").agg(round(mean(\"duration\"), 2).alias(\"avg_duration\"))\n",
        "avg_duration_by_subscription.show()\n"
      ],
      "metadata": {
        "colab": {
          "base_uri": "https://localhost:8080/"
        },
        "id": "cFbGAOux96s2",
        "outputId": "efdfcc9f-e354-4f35-e0dd-142e6f7e6f60"
      },
      "execution_count": null,
      "outputs": [
        {
          "output_type": "stream",
          "name": "stdout",
          "text": [
            "+---+------------+\n",
            "|  y|avg_duration|\n",
            "+---+------------+\n",
            "| no|      232.76|\n",
            "|yes|      484.34|\n",
            "+---+------------+\n",
            "\n"
          ]
        }
      ]
    },
    {
      "cell_type": "markdown",
      "source": [
        "Clients who subscribed (yes) had an average contact duration of ~484 seconds.\n",
        "\n",
        "Those who did not subscribe (no) averaged ~233 seconds.\n",
        "\n",
        "This confirms that longer conversations are positively correlated with successful subscriptions.\n",
        "\n"
      ],
      "metadata": {
        "id": "Flw24U8b-QL6"
      }
    },
    {
      "cell_type": "code",
      "source": [
        "# ques 10 Calculate the correlation coefficient between 'age' and 'balance' to see if there’s any linear relationship between these two variables.\n",
        "\n",
        "# Calculate correlation between 'age' and 'balance'\n",
        "# Step 1: Calculate correlation coefficient\n",
        "# Ensure no variable conflict by restarting the correlation from raw columns\n",
        "# This should work if 'age' and 'balance' are numeric columns\n",
        "from pyspark.sql import SparkSession\n",
        "\n",
        "spark = SparkSession.builder.appName(\"Bank Data Analysis\").getOrCreate()\n",
        "\n",
        "# Load your CSV file again\n",
        "df = spark.read.csv('/content/bank (1).csv', header=True, inferSchema=True)\n",
        "\n",
        "# If needed: reuse the filtered dataframe with balance > 1000 and proper transformations\n",
        "from pyspark.sql.functions import when, col\n",
        "\n",
        "quarter_df = df.filter(col(\"balance\") > 1000).withColumn(\n",
        "    \"quarter\",\n",
        "    when(col(\"month\").isin(\"jan\", \"feb\", \"mar\"), \"Q1\")\n",
        "    .when(col(\"month\").isin(\"apr\", \"may\", \"jun\"), \"Q2\")\n",
        "    .when(col(\"month\").isin(\"jul\", \"aug\", \"sep\"), \"Q3\")\n",
        "    .when(col(\"month\").isin(\"oct\", \"nov\", \"dec\"), \"Q4\")\n",
        ")\n",
        "\n"
      ],
      "metadata": {
        "id": "Gno0xkwE-Rkb"
      },
      "execution_count": null,
      "outputs": []
    },
    {
      "cell_type": "code",
      "source": [
        "# Proper correlation between age and balance\n",
        "import builtins\n",
        "\n",
        "# Recalculate correlation to be safe\n",
        "correlation_value = df.stat.corr(\"age\", \"balance\")\n",
        "\n",
        "# Use built-in round to avoid conflict with PySpark's round()\n",
        "print(\"Correlation between age and balance:\", builtins.round(correlation_value, 4))\n"
      ],
      "metadata": {
        "colab": {
          "base_uri": "https://localhost:8080/"
        },
        "id": "Q4TkUJc7_g1i",
        "outputId": "57806247-674a-4e72-f748-7cc55504fe6d"
      },
      "execution_count": null,
      "outputs": [
        {
          "output_type": "stream",
          "name": "stdout",
          "text": [
            "Correlation between age and balance: 0.0838\n"
          ]
        }
      ]
    },
    {
      "cell_type": "markdown",
      "source": [
        "Correlation between age and balance: 0.0838\n",
        "\n",
        "This indicates a very weak positive linear relationship between a client’s age and their bank balance.\n",
        "\n",
        "In simple terms: older clients tend to have slightly higher balances, but age alone is not a strong predictor of balance.\n",
        "\n"
      ],
      "metadata": {
        "id": "Ja23cBXQAbHt"
      }
    },
    {
      "cell_type": "code",
      "source": [
        "#ques 11 Analyze the proportion of clients with and without a credit default and visualize the count of defaulters and non-defaulters.\n",
        "\n",
        "# Group by 'default' column to count defaulters and non-defaulters\n",
        "default_counts_df = string_df.groupBy(\"default\").agg(count(\"*\").alias(\"count\")).toPandas()\n",
        "\n",
        "# Visualize using a pie chart\n",
        "import matplotlib.pyplot as plt\n",
        "\n",
        "# Pie chart\n",
        "plt.figure(figsize=(6, 6))\n",
        "plt.pie(\n",
        "    default_counts_df[\"count\"],\n",
        "    labels=default_counts_df[\"default\"],\n",
        "    autopct=\"%1.1f%%\",\n",
        "    startangle=140,\n",
        "    colors=[\"#8fd9b6\", \"#ff9999\"]\n",
        ")\n",
        "plt.title(\"Proportion of Clients With and Without Credit Default\")\n",
        "plt.axis(\"equal\")\n",
        "plt.show()\n",
        "\n",
        "# Display raw counts too\n",
        "default_counts_df\n"
      ],
      "metadata": {
        "colab": {
          "base_uri": "https://localhost:8080/",
          "height": 629
        },
        "id": "zxtAALlkAoq6",
        "outputId": "03018bc6-df18-4b9c-dfd2-39fa1f42c288"
      },
      "execution_count": null,
      "outputs": [
        {
          "output_type": "display_data",
          "data": {
            "text/plain": [
              "<Figure size 600x600 with 1 Axes>"
            ],
            "image/png": "[encoded data removed]"
          },
          "metadata": {}
        },
        {
          "output_type": "execute_result",
          "data": {
            "text/plain": [
              "  default  count\n",
              "0      no   1480\n",
              "1     yes      1"
            ],
            "text/html": [
              "\n",
              "  <div id=\"df-54fb9cc6-7f68-40b6-a5a0-e256f2cf8f5a\" class=\"colab-df-container\">\n",
              "    <div>\n",
              "<style scoped>\n",
              "    .dataframe tbody tr th:only-of-type {\n",
              "        vertical-align: middle;\n",
              "    }\n",
              "\n",
              "    .dataframe tbody tr th {\n",
              "        vertical-align: top;\n",
              "    }\n",
              "\n",
              "    .dataframe thead th {\n",
              "        text-align: right;\n",
              "    }\n",
              "</style>\n",
              "<table border=\"1\" class=\"dataframe\">\n",
              "  <thead>\n",
              "    <tr style=\"text-align: right;\">\n",
              "      <th></th>\n",
              "      <th>default</th>\n",
              "      <th>count</th>\n",
              "    </tr>\n",
              "  </thead>\n",
              "  <tbody>\n",
              "    <tr>\n",
              "      <th>0</th>\n",
              "      <td>no</td>\n",
              "      <td>1480</td>\n",
              "    </tr>\n",
              "    <tr>\n",
              "      <th>1</th>\n",
              "      <td>yes</td>\n",
              "      <td>1</td>\n",
              "    </tr>\n",
              "  </tbody>\n",
              "</table>\n",
              "</div>\n",
              "    <div class=\"colab-df-buttons\">\n",
              "\n",
              "  <div class=\"colab-df-container\">\n",
              "    <button class=\"colab-df-convert\" onclick=\"convertToInteractive('df-54fb9cc6-7f68-40b6-a5a0-e256f2cf8f5a')\"\n",
              "            title=\"Convert this dataframe to an interactive table.\"\n",
              "            style=\"display:none;\">\n",
              "\n",
              "  <svg xmlns=\"http://www.w3.org/2000/svg\" height=\"24px\" viewBox=\"0 -960 960 960\">\n",
              "    <path d=\"M120-120v-720h720v720H120Zm60-500h600v-160H180v160Zm220 220h160v-160H400v160Zm0 220h160v-160H400v160ZM180-400h160v-160H180v160Zm440 0h160v-160H620v160ZM180-180h160v-160H180v160Zm440 0h160v-160H620v160Z\"/>\n",
              "  </svg>\n",
              "    </button>\n",
              "\n",
              "  <style>\n",
              "    .colab-df-container {\n",
              "      display:flex;\n",
              "      gap: 12px;\n",
              "    }\n",
              "\n",
              "    .colab-df-convert {\n",
              "      background-color: #E8F0FE;\n",
              "      border: none;\n",
              "      border-radius: 50%;\n",
              "      cursor: pointer;\n",
              "      display: none;\n",
              "      fill: #1967D2;\n",
              "      height: 32px;\n",
              "      padding: 0 0 0 0;\n",
              "      width: 32px;\n",
              "    }\n",
              "\n",
              "    .colab-df-convert:hover {\n",
              "      background-color: #E2EBFA;\n",
              "      box-shadow: 0px 1px 2px rgba(60, 64, 67, 0.3), 0px 1px 3px 1px rgba(60, 64, 67, 0.15);\n",
              "      fill: #174EA6;\n",
              "    }\n",
              "\n",
              "    .colab-df-buttons div {\n",
              "      margin-bottom: 4px;\n",
              "    }\n",
              "\n",
              "    [theme=dark] .colab-df-convert {\n",
              "      background-color: #3B4455;\n",
              "      fill: #D2E3FC;\n",
              "    }\n",
              "\n",
              "    [theme=dark] .colab-df-convert:hover {\n",
              "      background-color: #434B5C;\n",
              "      box-shadow: 0px 1px 3px 1px rgba(0, 0, 0, 0.15);\n",
              "      filter: drop-shadow(0px 1px 2px rgba(0, 0, 0, 0.3));\n",
              "      fill: #FFFFFF;\n",
              "    }\n",
              "  </style>\n",
              "\n",
              "    <script>\n",
              "      const buttonEl =\n",
              "        document.querySelector('#df-54fb9cc6-7f68-40b6-a5a0-e256f2cf8f5a button.colab-df-convert');\n",
              "      buttonEl.style.display =\n",
              "        google.colab.kernel.accessAllowed ? 'block' : 'none';\n",
              "\n",
              "      async function convertToInteractive(key) {\n",
              "        const element = document.querySelector('#df-54fb9cc6-7f68-40b6-a5a0-e256f2cf8f5a');\n",
              "        const dataTable =\n",
              "          await google.colab.kernel.invokeFunction('convertToInteractive',\n",
              "                                                    [key], {});\n",
              "        if (!dataTable) return;\n",
              "\n",
              "        const docLinkHtml = 'Like what you see? Visit the ' +\n",
              "          '<a target=\"_blank\" href=https://colab.research.google.com/notebooks/data_table.ipynb>data table notebook</a>'\n",
              "          + ' to learn more about interactive tables.';\n",
              "        element.innerHTML = '';\n",
              "        dataTable['output_type'] = 'display_data';\n",
              "        await google.colab.output.renderOutput(dataTable, element);\n",
              "        const docLink = document.createElement('div');\n",
              "        docLink.innerHTML = docLinkHtml;\n",
              "        element.appendChild(docLink);\n",
              "      }\n",
              "    </script>\n",
              "  </div>\n",
              "\n",
              "\n",
              "    <div id=\"df-074b8805-ad8c-4d9f-8540-481fb6b95877\">\n",
              "      <button class=\"colab-df-quickchart\" onclick=\"quickchart('df-074b8805-ad8c-4d9f-8540-481fb6b95877')\"\n",
              "                title=\"Suggest charts\"\n",
              "                style=\"display:none;\">\n",
              "\n",
              "<svg xmlns=\"http://www.w3.org/2000/svg\" height=\"24px\"viewBox=\"0 0 24 24\"\n",
              "     width=\"24px\">\n",
              "    <g>\n",
              "        <path d=\"M19 3H5c-1.1 0-2 .9-2 2v14c0 1.1.9 2 2 2h14c1.1 0 2-.9 2-2V5c0-1.1-.9-2-2-2zM9 17H7v-7h2v7zm4 0h-2V7h2v10zm4 0h-2v-4h2v4z\"/>\n",
              "    </g>\n",
              "</svg>\n",
              "      </button>\n",
              "\n",
              "<style>\n",
              "  .colab-df-quickchart {\n",
              "      --bg-color: #E8F0FE;\n",
              "      --fill-color: #1967D2;\n",
              "      --hover-bg-color: #E2EBFA;\n",
              "      --hover-fill-color: #174EA6;\n",
              "      --disabled-fill-color: #AAA;\n",
              "      --disabled-bg-color: #DDD;\n",
              "  }\n",
              "\n",
              "  [theme=dark] .colab-df-quickchart {\n",
              "      --bg-color: #3B4455;\n",
              "      --fill-color: #D2E3FC;\n",
              "      --hover-bg-color: #434B5C;\n",
              "      --hover-fill-color: #FFFFFF;\n",
              "      --disabled-bg-color: #3B4455;\n",
              "      --disabled-fill-color: #666;\n",
              "  }\n",
              "\n",
              "  .colab-df-quickchart {\n",
              "    background-color: var(--bg-color);\n",
              "    border: none;\n",
              "    border-radius: 50%;\n",
              "    cursor: pointer;\n",
              "    display: none;\n",
              "    fill: var(--fill-color);\n",
              "    height: 32px;\n",
              "    padding: 0;\n",
              "    width: 32px;\n",
              "  }\n",
              "\n",
              "  .colab-df-quickchart:hover {\n",
              "    background-color: var(--hover-bg-color);\n",
              "    box-shadow: 0 1px 2px rgba(60, 64, 67, 0.3), 0 1px 3px 1px rgba(60, 64, 67, 0.15);\n",
              "    fill: var(--button-hover-fill-color);\n",
              "  }\n",
              "\n",
              "  .colab-df-quickchart-complete:disabled,\n",
              "  .colab-df-quickchart-complete:disabled:hover {\n",
              "    background-color: var(--disabled-bg-color);\n",
              "    fill: var(--disabled-fill-color);\n",
              "    box-shadow: none;\n",
              "  }\n",
              "\n",
              "  .colab-df-spinner {\n",
              "    border: 2px solid var(--fill-color);\n",
              "    border-color: transparent;\n",
              "    border-bottom-color: var(--fill-color);\n",
              "    animation:\n",
              "      spin 1s steps(1) infinite;\n",
              "  }\n",
              "\n",
              "  @keyframes spin {\n",
              "    0% {\n",
              "      border-color: transparent;\n",
              "      border-bottom-color: var(--fill-color);\n",
              "      border-left-color: var(--fill-color);\n",
              "    }\n",
              "    20% {\n",
              "      border-color: transparent;\n",
              "      border-left-color: var(--fill-color);\n",
              "      border-top-color: var(--fill-color);\n",
              "    }\n",
              "    30% {\n",
              "      border-color: transparent;\n",
              "      border-left-color: var(--fill-color);\n",
              "      border-top-color: var(--fill-color);\n",
              "      border-right-color: var(--fill-color);\n",
              "    }\n",
              "    40% {\n",
              "      border-color: transparent;\n",
              "      border-right-color: var(--fill-color);\n",
              "      border-top-color: var(--fill-color);\n",
              "    }\n",
              "    60% {\n",
              "      border-color: transparent;\n",
              "      border-right-color: var(--fill-color);\n",
              "    }\n",
              "    80% {\n",
              "      border-color: transparent;\n",
              "      border-right-color: var(--fill-color);\n",
              "      border-bottom-color: var(--fill-color);\n",
              "    }\n",
              "    90% {\n",
              "      border-color: transparent;\n",
              "      border-bottom-color: var(--fill-color);\n",
              "    }\n",
              "  }\n",
              "</style>\n",
              "\n",
              "      <script>\n",
              "        async function quickchart(key) {\n",
              "          const quickchartButtonEl =\n",
              "            document.querySelector('#' + key + ' button');\n",
              "          quickchartButtonEl.disabled = true;  // To prevent multiple clicks.\n",
              "          quickchartButtonEl.classList.add('colab-df-spinner');\n",
              "          try {\n",
              "            const charts = await google.colab.kernel.invokeFunction(\n",
              "                'suggestCharts', [key], {});\n",
              "          } catch (error) {\n",
              "            console.error('Error during call to suggestCharts:', error);\n",
              "          }\n",
              "          quickchartButtonEl.classList.remove('colab-df-spinner');\n",
              "          quickchartButtonEl.classList.add('colab-df-quickchart-complete');\n",
              "        }\n",
              "        (() => {\n",
              "          let quickchartButtonEl =\n",
              "            document.querySelector('#df-074b8805-ad8c-4d9f-8540-481fb6b95877 button');\n",
              "          quickchartButtonEl.style.display =\n",
              "            google.colab.kernel.accessAllowed ? 'block' : 'none';\n",
              "        })();\n",
              "      </script>\n",
              "    </div>\n",
              "\n",
              "  <div id=\"id_b2986e6d-12f6-4803-823b-6ce5b225c146\">\n",
              "    <style>\n",
              "      .colab-df-generate {\n",
              "        background-color: #E8F0FE;\n",
              "        border: none;\n",
              "        border-radius: 50%;\n",
              "        cursor: pointer;\n",
              "        display: none;\n",
              "        fill: #1967D2;\n",
              "        height: 32px;\n",
              "        padding: 0 0 0 0;\n",
              "        width: 32px;\n",
              "      }\n",
              "\n",
              "      .colab-df-generate:hover {\n",
              "        background-color: #E2EBFA;\n",
              "        box-shadow: 0px 1px 2px rgba(60, 64, 67, 0.3), 0px 1px 3px 1px rgba(60, 64, 67, 0.15);\n",
              "        fill: #174EA6;\n",
              "      }\n",
              "\n",
              "      [theme=dark] .colab-df-generate {\n",
              "        background-color: #3B4455;\n",
              "        fill: #D2E3FC;\n",
              "      }\n",
              "\n",
              "      [theme=dark] .colab-df-generate:hover {\n",
              "        background-color: #434B5C;\n",
              "        box-shadow: 0px 1px 3px 1px rgba(0, 0, 0, 0.15);\n",
              "        filter: drop-shadow(0px 1px 2px rgba(0, 0, 0, 0.3));\n",
              "        fill: #FFFFFF;\n",
              "      }\n",
              "    </style>\n",
              "    <button class=\"colab-df-generate\" onclick=\"generateWithVariable('default_counts_df')\"\n",
              "            title=\"Generate code using this dataframe.\"\n",
              "            style=\"display:none;\">\n",
              "\n",
              "  <svg xmlns=\"http://www.w3.org/2000/svg\" height=\"24px\"viewBox=\"0 0 24 24\"\n",
              "       width=\"24px\">\n",
              "    <path d=\"M7,19H8.4L18.45,9,17,7.55,7,17.6ZM5,21V16.75L18.45,3.32a2,2,0,0,1,2.83,0l1.4,1.43a1.91,1.91,0,0,1,.58,1.4,1.91,1.91,0,0,1-.58,1.4L9.25,21ZM18.45,9,17,7.55Zm-12,3A5.31,5.31,0,0,0,4.9,8.1,5.31,5.31,0,0,0,1,6.5,5.31,5.31,0,0,0,4.9,4.9,5.31,5.31,0,0,0,6.5,1,5.31,5.31,0,0,0,8.1,4.9,5.31,5.31,0,0,0,12,6.5,5.46,5.46,0,0,0,6.5,12Z\"/>\n",
              "  </svg>\n",
              "    </button>\n",
              "    <script>\n",
              "      (() => {\n",
              "      const buttonEl =\n",
              "        document.querySelector('#id_b2986e6d-12f6-4803-823b-6ce5b225c146 button.colab-df-generate');\n",
              "      buttonEl.style.display =\n",
              "        google.colab.kernel.accessAllowed ? 'block' : 'none';\n",
              "\n",
              "      buttonEl.onclick = () => {\n",
              "        google.colab.notebook.generateWithVariable('default_counts_df');\n",
              "      }\n",
              "      })();\n",
              "    </script>\n",
              "  </div>\n",
              "\n",
              "    </div>\n",
              "  </div>\n"
            ],
            "application/vnd.google.colaboratory.intrinsic+json": {
              "type": "dataframe",
              "variable_name": "default_counts_df",
              "summary": "{\n  \"name\": \"default_counts_df\",\n  \"rows\": 2,\n  \"fields\": [\n    {\n      \"column\": \"default\",\n      \"properties\": {\n        \"dtype\": \"string\",\n        \"num_unique_values\": 2,\n        \"samples\": [\n          \"yes\",\n          \"no\"\n        ],\n        \"semantic_type\": \"\",\n        \"description\": \"\"\n      }\n    },\n    {\n      \"column\": \"count\",\n      \"properties\": {\n        \"dtype\": \"number\",\n        \"std\": 1045,\n        \"min\": 1,\n        \"max\": 1480,\n        \"num_unique_values\": 2,\n        \"samples\": [\n          1,\n          1480\n        ],\n        \"semantic_type\": \"\",\n        \"description\": \"\"\n      }\n    }\n  ]\n}"
            }
          },
          "metadata": {},
          "execution_count": 24
        }
      ]
    },
    {
      "cell_type": "markdown",
      "source": [
        "The dataset shows that almost all clients do not have a credit default, meaning credit default is extremely rare in this data.\n",
        "This could suggest:\n",
        "\n",
        "Low credit risk overall, or\n",
        "\n",
        "The bank's selection process may filter out high-risk clients."
      ],
      "metadata": {
        "id": "hDLtZznSBbyi"
      }
    },
    {
      "cell_type": "code",
      "source": [
        "# ques 12 Investigate which contact method ('cellular', 'telephone', etc.) has the highest success rate for term deposit subscriptions.\n",
        "# Total contacts per contact method\n",
        "contact_total = string_df.groupBy(\"contact\").agg(count(\"*\").alias(\"total_contacts\"))\n",
        "\n",
        "# Successful subscriptions per contact method\n",
        "contact_success = string_df.filter(col(\"y\") == \"yes\") \\\n",
        "    .groupBy(\"contact\").agg(count(\"*\").alias(\"successful_contacts\"))\n",
        "\n",
        "# Join and calculate success rate\n",
        "contact_analysis = contact_total.join(contact_success, on=\"contact\", how=\"left\") \\\n",
        "    .fillna(0) \\\n",
        "    .withColumn(\"success_rate\", round((col(\"successful_contacts\") / col(\"total_contacts\")) * 100, 2)) \\\n",
        "    .orderBy(col(\"success_rate\").desc())\n",
        "\n",
        "contact_analysis.show()\n",
        "\n"
      ],
      "metadata": {
        "colab": {
          "base_uri": "https://localhost:8080/"
        },
        "id": "iczt5jv1BcqM",
        "outputId": "9603b6db-e221-493c-f022-0f24c528a061"
      },
      "execution_count": null,
      "outputs": [
        {
          "output_type": "stream",
          "name": "stdout",
          "text": [
            "+---------+--------------+-------------------+------------+\n",
            "|  contact|total_contacts|successful_contacts|success_rate|\n",
            "+---------+--------------+-------------------+------------+\n",
            "|telephone|           120|                 26|       21.67|\n",
            "| cellular|           946|                171|       18.08|\n",
            "|  unknown|           415|                 24|        5.78|\n",
            "+---------+--------------+-------------------+------------+\n",
            "\n"
          ]
        }
      ]
    },
    {
      "cell_type": "markdown",
      "source": [
        "Shows each contact method (cellular, telephone, unknown)\n",
        "\n",
        "Displays:\n",
        "\n",
        "Total contacts\n",
        "\n",
        "Successful subscriptions\n",
        "\n",
        "Success rate (%) for each method\n",
        "\n",
        "This helps identify which contact method is most effective for conversions.\n",
        "\n"
      ],
      "metadata": {
        "id": "q7Rrh70DBqCh"
      }
    },
    {
      "cell_type": "code",
      "source": [
        "# ques 13 Calculate the average account balance for different age groups or the most common job types.\n",
        "#(Use CREATE TEMPORARY VIEW in Spark SQL to query data using SQL syntax.)\n",
        "\n",
        "# Register the Spark DataFrame as a SQL temporary view\n",
        "string_df.createOrReplaceTempView(\"bank_data\")\n",
        "\n",
        "# 1. Average account balance for each age group\n",
        "spark.sql(\"\"\"\n",
        "    SELECT age_group, ROUND(AVG(balance), 2) AS avg_balance\n",
        "    FROM bank_data\n",
        "    GROUP BY age_group\n",
        "    ORDER BY age_group\n",
        "\"\"\").show()\n",
        "\n",
        "# 2. Top 5 most common job types\n",
        "spark.sql(\"\"\"\n",
        "    SELECT job, COUNT(*) AS job_count\n",
        "    FROM bank_data\n",
        "    GROUP BY job\n",
        "    ORDER BY job_count DESC\n",
        "    LIMIT 5\n",
        "\"\"\").show()\n",
        "\n",
        "\n"
      ],
      "metadata": {
        "colab": {
          "base_uri": "https://localhost:8080/"
        },
        "id": "MLo7EZrtBrDm",
        "outputId": "82a6e52b-b1cd-44e3-8eea-eba16acb7971"
      },
      "execution_count": null,
      "outputs": [
        {
          "output_type": "stream",
          "name": "stdout",
          "text": [
            "+---------+-----------+\n",
            "|age_group|avg_balance|\n",
            "+---------+-----------+\n",
            "|    30-60|    3853.56|\n",
            "|      <30|    3488.91|\n",
            "|      >60|    4993.55|\n",
            "+---------+-----------+\n",
            "\n",
            "+-----------+---------+\n",
            "|        job|job_count|\n",
            "+-----------+---------+\n",
            "| management|      370|\n",
            "|blue-collar|      278|\n",
            "| technician|      239|\n",
            "|     admin.|      152|\n",
            "|   services|      116|\n",
            "+-----------+---------+\n",
            "\n"
          ]
        }
      ]
    },
    {
      "cell_type": "markdown",
      "source": [
        "Older clients (>60) tend to maintain higher balances, while younger ones (<30) have the lowest. This can inform product design for different age groups.\n",
        "\n",
        "Most clients come from management and blue-collar sectors, helping you identify which customer segments are most prevalent.\n",
        "\n"
      ],
      "metadata": {
        "id": "4PrRj7MICSzA"
      }
    }
  ]
}